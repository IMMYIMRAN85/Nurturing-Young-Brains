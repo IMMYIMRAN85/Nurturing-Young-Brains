{
 "cells": [
  {
   "cell_type": "markdown",
   "id": "44c45b90",
   "metadata": {},
   "source": [
    "Bernoulli Naive Bayes (BNB)"
   ]
  },
  {
   "cell_type": "markdown",
   "id": "aec5e754",
   "metadata": {},
   "source": [
    "Training Data"
   ]
  },
  {
   "cell_type": "code",
   "execution_count": 12,
   "id": "c5c4aef1",
   "metadata": {},
   "outputs": [
    {
     "name": "stdout",
     "output_type": "stream",
     "text": [
      "Training data size: 8\n",
      "Testing data size: 2\n",
      "Bernoulli Naive Bayes Model Accuracy: 0.0\n",
      "\n",
      "Classification Report:\n",
      "               precision    recall  f1-score   support\n",
      "\n",
      "   non-toxic       0.00      0.00      0.00       1.0\n",
      "       toxic       0.00      0.00      0.00       1.0\n",
      "\n",
      "    accuracy                           0.00       2.0\n",
      "   macro avg       0.00      0.00      0.00       2.0\n",
      "weighted avg       0.00      0.00      0.00       2.0\n",
      "\n"
     ]
    }
   ],
   "source": [
    "# Small manually labeled dataset\n",
    "comments = [\n",
    "    \"I hate this video\",\n",
    "    \"This song is awesome\",\n",
    "    \"You're stupid\",\n",
    "    \"Beautiful performance!\",\n",
    "    \"Violence should be banned\",\n",
    "    \"Great work, keep it up!\",\n",
    "    \"This is the worst video ever\",\n",
    "    \"Amazing talent!\",\n",
    "    \"Idiot creator, no skills\",\n",
    "    \"Best content I've seen!\"\n",
    "]\n",
    "\n",
    "labels = [\n",
    "    \"toxic\",\n",
    "    \"non-toxic\",\n",
    "    \"toxic\",\n",
    "    \"non-toxic\",\n",
    "    \"toxic\",\n",
    "    \"non-toxic\",\n",
    "    \"toxic\",\n",
    "    \"non-toxic\",\n",
    "    \"toxic\",\n",
    "    \"non-toxic\"\n",
    "]\n",
    "from sklearn.model_selection import train_test_split\n",
    "\n",
    "# Split dataset into 80% training and 20% testing\n",
    "X_train, X_test, y_train, y_test = train_test_split(\n",
    "    comments, labels, \n",
    "    test_size=0.2, \n",
    "    random_state=42\n",
    ")\n",
    "\n",
    "print(\"Training data size:\", len(X_train))\n",
    "print(\"Testing data size:\", len(X_test))\n",
    "from sklearn.feature_extraction.text import CountVectorizer\n",
    "from sklearn.naive_bayes import BernoulliNB\n",
    "from sklearn.metrics import accuracy_score, classification_report\n",
    "\n",
    "# Step 1: Convert text into feature vectors\n",
    "vectorizer = CountVectorizer(binary=True)\n",
    "X_train_vec = vectorizer.fit_transform(X_train)\n",
    "X_test_vec = vectorizer.transform(X_test)\n",
    "\n",
    "# Step 2: Train the Bernoulli Naive Bayes model\n",
    "bnb_model = BernoulliNB()\n",
    "bnb_model.fit(X_train_vec, y_train)\n",
    "\n",
    "# Step 3: Predict on the test set\n",
    "y_pred_bnb = bnb_model.predict(X_test_vec)\n",
    "\n",
    "# Step 4: Evaluate the model\n",
    "print(\"Bernoulli Naive Bayes Model Accuracy:\", accuracy_score(y_test, y_pred_bnb))\n",
    "print(\"\\nClassification Report:\\n\", classification_report(y_test, y_pred_bnb))\n",
    "\n"
   ]
  },
  {
   "cell_type": "markdown",
   "id": "b3f3d903",
   "metadata": {},
   "source": [
    "# Split dataset into 80% training and 20% testing"
   ]
  },
  {
   "cell_type": "markdown",
   "id": "f0ea3ef5",
   "metadata": {},
   "source": [
    "Code to Train Bernoulli Naive Bayes:"
   ]
  },
  {
   "cell_type": "markdown",
   "id": "d108b5df",
   "metadata": {},
   "source": [
    "Train Support Vector Machine"
   ]
  },
  {
   "cell_type": "code",
   "execution_count": 11,
   "id": "e165565a",
   "metadata": {},
   "outputs": [
    {
     "name": "stdout",
     "output_type": "stream",
     "text": [
      "Support Vector Machine Model Accuracy: 0.0\n",
      "\n",
      "Classification Report:\n",
      "               precision    recall  f1-score   support\n",
      "\n",
      "   non-toxic       0.00      0.00      0.00       1.0\n",
      "       toxic       0.00      0.00      0.00       1.0\n",
      "\n",
      "    accuracy                           0.00       2.0\n",
      "   macro avg       0.00      0.00      0.00       2.0\n",
      "weighted avg       0.00      0.00      0.00       2.0\n",
      "\n"
     ]
    }
   ],
   "source": [
    "from sklearn.svm import LinearSVC\n",
    "\n",
    "# Step 1: Train the Support Vector Machine model\n",
    "svm_model = LinearSVC()\n",
    "svm_model.fit(X_train_vec, y_train)\n",
    "\n",
    "# Step 2: Predict on the test set\n",
    "y_pred_svm = svm_model.predict(X_test_vec)\n",
    "\n",
    "# Step 3: Evaluate the model\n",
    "print(\"Support Vector Machine Model Accuracy:\", accuracy_score(y_test, y_pred_svm))\n",
    "print(\"\\nClassification Report:\\n\", classification_report(y_test, y_pred_svm))"
   ]
  },
  {
   "cell_type": "markdown",
   "id": "e02257b2",
   "metadata": {},
   "source": [
    "# Step 1: Train the Support Vector Machine model"
   ]
  },
  {
   "cell_type": "code",
   "execution_count": 14,
   "id": "558411f6",
   "metadata": {},
   "outputs": [
    {
     "name": "stdout",
     "output_type": "stream",
     "text": [
      "Support Vector Machine Model Accuracy: 0.0\n",
      "\n",
      "Classification Report:\n",
      "               precision    recall  f1-score   support\n",
      "\n",
      "   non-toxic       0.00      0.00      0.00       1.0\n",
      "       toxic       0.00      0.00      0.00       1.0\n",
      "\n",
      "    accuracy                           0.00       2.0\n",
      "   macro avg       0.00      0.00      0.00       2.0\n",
      "weighted avg       0.00      0.00      0.00       2.0\n",
      "\n"
     ]
    }
   ],
   "source": [
    "from sklearn.svm import LinearSVC\n",
    "\n",
    "# Step 1: Train the Support Vector Machine model\n",
    "svm_model = LinearSVC()\n",
    "svm_model.fit(X_train_vec, y_train)\n",
    "\n",
    "# Step 2: Predict on the test set\n",
    "y_pred_svm = svm_model.predict(X_test_vec)\n",
    "\n",
    "# Step 3: Evaluate the model\n",
    "print(\"Support Vector Machine Model Accuracy:\", accuracy_score(y_test, y_pred_svm))\n",
    "print(\"\\nClassification Report:\\n\", classification_report(y_test, y_pred_svm))"
   ]
  }
 ],
 "metadata": {
  "kernelspec": {
   "display_name": "Python 3",
   "language": "python",
   "name": "python3"
  },
  "language_info": {
   "codemirror_mode": {
    "name": "ipython",
    "version": 3
   },
   "file_extension": ".py",
   "mimetype": "text/x-python",
   "name": "python",
   "nbconvert_exporter": "python",
   "pygments_lexer": "ipython3",
   "version": "3.13.3"
  }
 },
 "nbformat": 4,
 "nbformat_minor": 5
}
